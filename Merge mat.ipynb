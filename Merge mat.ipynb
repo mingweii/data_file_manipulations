{
 "cells": [
  {
   "cell_type": "code",
   "execution_count": 1,
   "metadata": {},
   "outputs": [],
   "source": [
    "import sys\n",
    "sys.path.insert(0, 'C:/Users/QMDla/Documents/GitHub/data_file_manipulations/')\n",
    "\n",
    "import files_manipulation"
   ]
  },
  {
   "cell_type": "code",
   "execution_count": 2,
   "metadata": {},
   "outputs": [],
   "source": [
    "import importlib"
   ]
  },
  {
   "cell_type": "code",
   "execution_count": 3,
   "metadata": {},
   "outputs": [
    {
     "data": {
      "text/plain": [
       "<module 'files_manipulation' from 'C:/Users/QMDla/Documents/GitHub/data_file_manipulations\\\\files_manipulation.py'>"
      ]
     },
     "execution_count": 3,
     "metadata": {},
     "output_type": "execute_result"
    }
   ],
   "source": [
    "importlib.reload(files_manipulation)"
   ]
  },
  {
   "cell_type": "code",
   "execution_count": 11,
   "metadata": {},
   "outputs": [
    {
     "name": "stdout",
     "output_type": "stream",
     "text": [
      "IDC.shape=(201,)\n",
      "IRF.shape=(201,)\n",
      "PRF.shape=(201,)\n",
      "A.shape=(12,)\n",
      "eta.shape=(12,)\n",
      "f_rf.shape=(12,)\n",
      "C.shape=(12,)\n",
      "V.shape=(201, 201, 12)\n",
      "DVDI.shape=(201, 201, 12)\n",
      "Ic_max.shape=(12,)\n"
     ]
    }
   ],
   "source": [
    "dataDir = \"C:/Users/QMDla/Documents/GitHub/Josephson-junction-simulations/Shapiro/two-channel-CPR/Ic_1uA/\"\n",
    "files_manipulation.merge_multiple_mat(dataDir,True) # True for saving .h5\n"
   ]
  },
  {
   "cell_type": "markdown",
   "metadata": {},
   "source": [
    "### Load the h5 format"
   ]
  },
  {
   "cell_type": "code",
   "execution_count": 6,
   "metadata": {},
   "outputs": [],
   "source": [
    "import h5py"
   ]
  },
  {
   "cell_type": "code",
   "execution_count": 12,
   "metadata": {},
   "outputs": [
    {
     "name": "stdout",
     "output_type": "stream",
     "text": [
      "['A', 'C', 'DVDI', 'IDC', 'IRF', 'Ic_max', 'PRF', 'V', 'eta', 'f_rf']\n"
     ]
    }
   ],
   "source": [
    "filename=\"C:/Users/QMDla/Documents/GitHub/Josephson-junction-simulations/Shapiro/two-channel-CPR/Ic_1uA/merged.h5\"\n",
    "#for file in os.listdir( h5Dir ):\n",
    "fd= h5py.File(filename,'r')\n",
    "print(list(fd.keys()))\n",
    "fd.flush()\n",
    "fd.close()\n"
   ]
  },
  {
   "cell_type": "code",
   "execution_count": 35,
   "metadata": {},
   "outputs": [],
   "source": [
    "from scipy.io import loadmat"
   ]
  },
  {
   "cell_type": "code",
   "execution_count": 39,
   "metadata": {},
   "outputs": [],
   "source": [
    "matname=\"C:/Users/QMDla/Documents/GitHub/Josephson-junction-simulations/Shapiro/two-channel-CPR/Ic_1uA/merged.mat\"\n",
    "loaded_data=loadmat(matname)"
   ]
  },
  {
   "cell_type": "code",
   "execution_count": 40,
   "metadata": {},
   "outputs": [
    {
     "data": {
      "text/plain": [
       "dict_keys(['__header__', '__version__', '__globals__', 'IDC', 'IRF', 'PRF', 'A', 'eta', 'f_rf', 'C', 'V', 'DVDI', 'Ic_max'])"
      ]
     },
     "execution_count": 40,
     "metadata": {},
     "output_type": "execute_result"
    }
   ],
   "source": [
    "loaded_data.keys()"
   ]
  }
 ],
 "metadata": {
  "kernelspec": {
   "display_name": "Python 3",
   "language": "python",
   "name": "python3"
  },
  "language_info": {
   "codemirror_mode": {
    "name": "ipython",
    "version": 3
   },
   "file_extension": ".py",
   "mimetype": "text/x-python",
   "name": "python",
   "nbconvert_exporter": "python",
   "pygments_lexer": "ipython3",
   "version": "3.6.12"
  }
 },
 "nbformat": 4,
 "nbformat_minor": 4
}
